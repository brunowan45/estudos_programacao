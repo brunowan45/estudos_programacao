{
  "nbformat": 4,
  "nbformat_minor": 0,
  "metadata": {
    "colab": {
      "provenance": [],
      "authorship_tag": "ABX9TyPvU9Sdwt3TWsV6ruzUTmCN",
      "include_colab_link": true
    },
    "kernelspec": {
      "name": "python3",
      "display_name": "Python 3"
    },
    "language_info": {
      "name": "python"
    }
  },
  "cells": [
    {
      "cell_type": "markdown",
      "metadata": {
        "id": "view-in-github",
        "colab_type": "text"
      },
      "source": [
        "<a href=\"https://colab.research.google.com/github/brunowan45/estudos_programacao/blob/main/Aula2.ipynb\" target=\"_parent\"><img src=\"https://colab.research.google.com/assets/colab-badge.svg\" alt=\"Open In Colab\"/></a>"
      ]
    },
    {
      "cell_type": "code",
      "execution_count": 5,
      "metadata": {
        "colab": {
          "base_uri": "https://localhost:8080/"
        },
        "id": "0Y-4Q-BG8bQP",
        "outputId": "2160957b-8f71-4e06-f6d7-975f772774a4"
      },
      "outputs": [
        {
          "output_type": "stream",
          "name": "stdout",
          "text": [
            "Digite a idade do atleta! 25\n",
            "Senior\n"
          ]
        }
      ],
      "source": [
        "idade = int(input('Digite a idade do atleta! '))\n",
        "if(idade < 14):\n",
        "   print('infantil')\n",
        "elif(idade < 18):\n",
        "    print('Juvenil')\n",
        "else:\n",
        "  print('Senior')"
      ]
    },
    {
      "cell_type": "code",
      "source": [
        "#Lista de números\n",
        "num = [1, 6, 3, 8, 5]"
      ],
      "metadata": {
        "id": "_jbHuz65_7WQ"
      },
      "execution_count": 7,
      "outputs": []
    },
    {
      "cell_type": "code",
      "source": [
        "len(num)"
      ],
      "metadata": {
        "colab": {
          "base_uri": "https://localhost:8080/"
        },
        "id": "lpBsdxv0BmU1",
        "outputId": "8a9e81fa-8b47-4edb-ddf9-1e9105e3855a"
      },
      "execution_count": 8,
      "outputs": [
        {
          "output_type": "execute_result",
          "data": {
            "text/plain": [
              "5"
            ]
          },
          "metadata": {},
          "execution_count": 8
        }
      ]
    },
    {
      "cell_type": "code",
      "source": [
        "num[0]"
      ],
      "metadata": {
        "colab": {
          "base_uri": "https://localhost:8080/"
        },
        "id": "3aF8WjSGCUJx",
        "outputId": "d2c8542c-1614-4895-c75a-b221158e8625"
      },
      "execution_count": 9,
      "outputs": [
        {
          "output_type": "execute_result",
          "data": {
            "text/plain": [
              "1"
            ]
          },
          "metadata": {},
          "execution_count": 9
        }
      ]
    },
    {
      "cell_type": "code",
      "source": [
        "#lista de alunos\n",
        "alunos = ['José', 'Pablo', 'Ronaldo', 'Ednaldo', 'Francisco']\n",
        "alunos[2]"
      ],
      "metadata": {
        "colab": {
          "base_uri": "https://localhost:8080/",
          "height": 35
        },
        "id": "lW2uW6WFDJJS",
        "outputId": "eb8e0a9e-72d7-49f2-96c3-12b725530327"
      },
      "execution_count": 22,
      "outputs": [
        {
          "output_type": "execute_result",
          "data": {
            "text/plain": [
              "'Ronaldo'"
            ],
            "application/vnd.google.colaboratory.intrinsic+json": {
              "type": "string"
            }
          },
          "metadata": {},
          "execution_count": 22
        }
      ]
    },
    {
      "cell_type": "code",
      "source": [
        "len(alunos)"
      ],
      "metadata": {
        "colab": {
          "base_uri": "https://localhost:8080/"
        },
        "id": "AVhd3QZUDx_K",
        "outputId": "db2be788-ce52-434e-df50-4783a0f6c11c"
      },
      "execution_count": 23,
      "outputs": [
        {
          "output_type": "execute_result",
          "data": {
            "text/plain": [
              "5"
            ]
          },
          "metadata": {},
          "execution_count": 23
        }
      ]
    },
    {
      "cell_type": "code",
      "source": [
        "print(alunos[2])"
      ],
      "metadata": {
        "colab": {
          "base_uri": "https://localhost:8080/"
        },
        "id": "7ChTj16iFGGv",
        "outputId": "751b2997-0d0d-401a-9583-3e9c7c835061"
      },
      "execution_count": 24,
      "outputs": [
        {
          "output_type": "stream",
          "name": "stdout",
          "text": [
            "Ronaldo\n"
          ]
        }
      ]
    },
    {
      "cell_type": "code",
      "source": [
        "alunos.append('Ronaldo')\n",
        "alunos"
      ],
      "metadata": {
        "colab": {
          "base_uri": "https://localhost:8080/"
        },
        "id": "VgVIl311FOWW",
        "outputId": "f2f8647a-6495-4034-a200-0fec52f94561"
      },
      "execution_count": 25,
      "outputs": [
        {
          "output_type": "execute_result",
          "data": {
            "text/plain": [
              "['José', 'Pablo', 'Ronaldo', 'Ednaldo', 'Francisco', 'Ronaldo']"
            ]
          },
          "metadata": {},
          "execution_count": 25
        }
      ]
    },
    {
      "cell_type": "code",
      "source": [
        "alunos.append(input('Digite o nome: '))"
      ],
      "metadata": {
        "colab": {
          "base_uri": "https://localhost:8080/"
        },
        "id": "ozsJkJhiGG9U",
        "outputId": "f242c9ae-80c8-4b59-f8dc-ff062b5c3848"
      },
      "execution_count": 26,
      "outputs": [
        {
          "name": "stdout",
          "output_type": "stream",
          "text": [
            "Digite o nome: Pablo\n"
          ]
        }
      ]
    },
    {
      "cell_type": "code",
      "source": [
        "print(alunos)"
      ],
      "metadata": {
        "colab": {
          "base_uri": "https://localhost:8080/"
        },
        "id": "PLpW_J-sD2CR",
        "outputId": "93b559e0-5c06-46e2-cd57-5f512b654df3"
      },
      "execution_count": 27,
      "outputs": [
        {
          "output_type": "stream",
          "name": "stdout",
          "text": [
            "['José', 'Pablo', 'Ronaldo', 'Ednaldo', 'Francisco', 'Ronaldo', 'Pablo']\n"
          ]
        }
      ]
    },
    {
      "cell_type": "code",
      "source": [
        "if (20 == 30):\n",
        "  print('sim')\n",
        "elif(20 > 30):\n",
        "  print('iguais')\n",
        "else:\n",
        "  print('Menor')"
      ],
      "metadata": {
        "colab": {
          "base_uri": "https://localhost:8080/"
        },
        "id": "M4QmEeMIOl2L",
        "outputId": "b523b4be-23fa-4fa2-f8dd-d29fbf15d7eb"
      },
      "execution_count": 39,
      "outputs": [
        {
          "output_type": "stream",
          "name": "stdout",
          "text": [
            "Menor\n"
          ]
        }
      ]
    },
    {
      "cell_type": "code",
      "source": [
        "if nome in alunos:\n",
        "   print('Tem Ronaldo SIIM')\n",
        "else:\n",
        "  print('Tem Ronaldo nãoooooo! ')"
      ],
      "metadata": {
        "colab": {
          "base_uri": "https://localhost:8080/"
        },
        "id": "WOT_IKXyM7Q_",
        "outputId": "89cccce9-2e4c-4eaa-e830-a96116e503c2"
      },
      "execution_count": 45,
      "outputs": [
        {
          "output_type": "stream",
          "name": "stdout",
          "text": [
            "Tem Ronaldo SIIM\n"
          ]
        }
      ]
    },
    {
      "cell_type": "code",
      "source": [
        "nome = input('Digite o Nome: ')\n",
        "if nome in alunos:\n",
        "  print('Tem', nome)\n",
        "else:\n",
        "  print('Não Tem ', nome)"
      ],
      "metadata": {
        "colab": {
          "base_uri": "https://localhost:8080/"
        },
        "id": "htJWVG3dP0RF",
        "outputId": "0c58e385-f351-415f-e513-e56d281e9d7e"
      },
      "execution_count": 47,
      "outputs": [
        {
          "output_type": "stream",
          "name": "stdout",
          "text": [
            "Digite o Nome: MÁRIA\n",
            "Não Tem  MÁRIA\n"
          ]
        }
      ]
    },
    {
      "cell_type": "code",
      "source": [
        "del alunos[a]"
      ],
      "metadata": {
        "id": "B7_ZpNYsSY1K"
      },
      "execution_count": null,
      "outputs": []
    },
    {
      "cell_type": "code",
      "source": [
        "numeros = []\n",
        "for num in range(15):\n",
        "   numeros.append(num)"
      ],
      "metadata": {
        "colab": {
          "base_uri": "https://localhost:8080/"
        },
        "id": "_XsikQcbTAJU",
        "outputId": "18a1123b-0675-4e4f-95cd-3fa2f05bb1b1"
      },
      "execution_count": 48,
      "outputs": [
        {
          "output_type": "execute_result",
          "data": {
            "text/plain": [
              "[0, 1, 2, 3, 4, 5, 6, 7, 8, 9, 10, 11, 12, 13, 14]"
            ]
          },
          "metadata": {},
          "execution_count": 48
        }
      ]
    },
    {
      "cell_type": "code",
      "source": [],
      "metadata": {
        "id": "xaf3yJ0XWTEp"
      },
      "execution_count": null,
      "outputs": []
    },
    {
      "cell_type": "code",
      "source": [
        "dobro = []\n",
        "for num in numeros:\n",
        "  dobro.append(numeros[num] * 2)\n",
        "dobro"
      ],
      "metadata": {
        "colab": {
          "base_uri": "https://localhost:8080/"
        },
        "id": "8a3BFt-2TgDc",
        "outputId": "c6406f5c-918f-46b0-fee1-cc82a9d929c8"
      },
      "execution_count": 59,
      "outputs": [
        {
          "output_type": "execute_result",
          "data": {
            "text/plain": [
              "[0, 2, 4, 6, 8, 10, 12, 14, 16, 18, 20, 22, 24, 26, 28]"
            ]
          },
          "metadata": {},
          "execution_count": 59
        }
      ]
    },
    {
      "cell_type": "code",
      "source": [
        "a = 8\n",
        "if a%2 == 0:\n",
        "  print('É par')\n",
        "else:\n",
        "  print('É impar')"
      ],
      "metadata": {
        "colab": {
          "base_uri": "https://localhost:8080/"
        },
        "id": "CKrp6-CIV_zr",
        "outputId": "08d9194b-228d-4b05-a353-bb232203e84e"
      },
      "execution_count": 60,
      "outputs": [
        {
          "output_type": "stream",
          "name": "stdout",
          "text": [
            "É par\n"
          ]
        }
      ]
    },
    {
      "cell_type": "code",
      "source": [
        "for num in numeros:\n",
        "  if numeros[num]%2 == 0:\n",
        "    print(numeros[num])"
      ],
      "metadata": {
        "colab": {
          "base_uri": "https://localhost:8080/"
        },
        "id": "jzOOx6lsXmJK",
        "outputId": "c2a5162d-e9c5-4ee5-be32-43267d937696"
      },
      "execution_count": 65,
      "outputs": [
        {
          "output_type": "stream",
          "name": "stdout",
          "text": [
            "0\n",
            "2\n",
            "4\n",
            "6\n",
            "8\n",
            "10\n",
            "12\n",
            "14\n"
          ]
        }
      ]
    },
    {
      "cell_type": "code",
      "source": [],
      "metadata": {
        "id": "BotmADtLYxk2"
      },
      "execution_count": null,
      "outputs": []
    }
  ]
}