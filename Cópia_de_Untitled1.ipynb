{
  "nbformat": 4,
  "nbformat_minor": 0,
  "metadata": {
    "colab": {
      "provenance": [],
      "authorship_tag": "ABX9TyNxhAcDpWDInT+27jWYu4aV",
      "include_colab_link": true
    },
    "kernelspec": {
      "name": "python3",
      "display_name": "Python 3"
    },
    "language_info": {
      "name": "python"
    }
  },
  "cells": [
    {
      "cell_type": "markdown",
      "metadata": {
        "id": "view-in-github",
        "colab_type": "text"
      },
      "source": [
        "<a href=\"https://colab.research.google.com/github/brunowan45/estudos_programacao/blob/main/C%C3%B3pia_de_Untitled1.ipynb\" target=\"_parent\"><img src=\"https://colab.research.google.com/assets/colab-badge.svg\" alt=\"Open In Colab\"/></a>"
      ]
    },
    {
      "cell_type": "code",
      "execution_count": null,
      "metadata": {
        "id": "8oNFmbztGSGw"
      },
      "outputs": [],
      "source": [
        "#Declaração da função\n",
        "def my_first_function():\n",
        "  print('minha primeira função')"
      ]
    },
    {
      "cell_type": "code",
      "source": [
        "#chamando uma função\n",
        "my_first_function()"
      ],
      "metadata": {
        "id": "Babc5Yy_HqV2",
        "colab": {
          "base_uri": "https://localhost:8080/"
        },
        "outputId": "29e31ad4-1160-4a65-fa5b-6dd06c80924d"
      },
      "execution_count": null,
      "outputs": [
        {
          "output_type": "stream",
          "name": "stdout",
          "text": [
            "minha primeira função\n"
          ]
        }
      ]
    },
    {
      "cell_type": "code",
      "source": [
        "def pronomeTratam(pronome):\n",
        "  print(pronome + \" Bruno\")"
      ],
      "metadata": {
        "id": "82ivNXetI2kG"
      },
      "execution_count": null,
      "outputs": []
    },
    {
      "cell_type": "code",
      "source": [
        "pronomeTratam('Doutor')\n",
        "pronomeTratam('Ilmo')\n",
        "pronomeTratam('Seu')"
      ],
      "metadata": {
        "colab": {
          "base_uri": "https://localhost:8080/"
        },
        "id": "Cn0b3n9qJEim",
        "outputId": "f47c3490-20da-4893-af37-1bb5403b44a9"
      },
      "execution_count": null,
      "outputs": [
        {
          "output_type": "stream",
          "name": "stdout",
          "text": [
            "Doutor Bruno\n",
            "Ilmo Bruno\n",
            "Seu Bruno\n"
          ]
        }
      ]
    },
    {
      "cell_type": "code",
      "source": [
        "def tratamNome(pronome, nome):\n",
        "  print(pronome, nome)"
      ],
      "metadata": {
        "id": "n4W-4V9iJ1St"
      },
      "execution_count": null,
      "outputs": []
    },
    {
      "cell_type": "code",
      "source": [
        "tratamNome('Dr', 'Zé')"
      ],
      "metadata": {
        "colab": {
          "base_uri": "https://localhost:8080/"
        },
        "id": "WaQ_MXI-KMmt",
        "outputId": "69ec5870-5b15-422e-c3d7-b09177597fd9"
      },
      "execution_count": null,
      "outputs": [
        {
          "output_type": "stream",
          "name": "stdout",
          "text": [
            "Dr Zé\n"
          ]
        }
      ]
    },
    {
      "cell_type": "code",
      "source": [
        "#Função que recebe como parámetros Nome e Ano de nascimento\n",
        "#Calcula a idade do sujeito e retorna algo como:\n",
        "# Asdrúbal tem 28 anos\n",
        "def nomeEAno(nome, ano):\n",
        "  idade = 2023 - ano\n",
        "  print(nome, idade, 'anos')"
      ],
      "metadata": {
        "id": "fa7IAzuxK7DJ"
      },
      "execution_count": null,
      "outputs": []
    },
    {
      "cell_type": "code",
      "source": [
        "nomeEAno('Bruno', 2002)"
      ],
      "metadata": {
        "colab": {
          "base_uri": "https://localhost:8080/"
        },
        "id": "rT6ktjfFM7VK",
        "outputId": "db5cb946-4166-428a-e004-432884c60b37"
      },
      "execution_count": null,
      "outputs": [
        {
          "output_type": "stream",
          "name": "stdout",
          "text": [
            "Bruno 21 anos\n"
          ]
        }
      ]
    },
    {
      "cell_type": "code",
      "source": [
        "#Função que recebe Altura e Peso e retorna o IMC:\n",
        "#Fórmula IMC peso/altura**2"
      ],
      "metadata": {
        "id": "3FxvWeU3OA5K"
      },
      "execution_count": null,
      "outputs": []
    },
    {
      "cell_type": "code",
      "source": [
        "def calculoIMC(altura, peso):\n",
        "  print(peso/altura**2)\n"
      ],
      "metadata": {
        "id": "RzazYNVoP4HX"
      },
      "execution_count": null,
      "outputs": []
    },
    {
      "cell_type": "code",
      "source": [
        "calculoIMC(1.65, 83)"
      ],
      "metadata": {
        "colab": {
          "base_uri": "https://localhost:8080/"
        },
        "id": "y9B7GpOkQL_W",
        "outputId": "bb9091e8-f763-4e32-fb75-401f773c5f66"
      },
      "execution_count": null,
      "outputs": [
        {
          "output_type": "stream",
          "name": "stdout",
          "text": [
            "30.48668503213958\n"
          ]
        }
      ]
    },
    {
      "cell_type": "code",
      "source": [
        "def calculoIMC(altura, peso):\n",
        "  return peso/altura**2"
      ],
      "metadata": {
        "id": "d8cHxsofR2ol"
      },
      "execution_count": null,
      "outputs": []
    },
    {
      "cell_type": "code",
      "source": [
        "calculoIMC(1.65, 83)"
      ],
      "metadata": {
        "colab": {
          "base_uri": "https://localhost:8080/"
        },
        "id": "1CypZXciR-K8",
        "outputId": "7580f0f5-f809-4380-e199-e9b28ae5cc27"
      },
      "execution_count": null,
      "outputs": [
        {
          "output_type": "execute_result",
          "data": {
            "text/plain": [
              "30.48668503213958"
            ]
          },
          "metadata": {},
          "execution_count": 20
        }
      ]
    },
    {
      "cell_type": "code",
      "source": [
        "#O cálculo de Juros Simples é dado pela fórmula:\n",
        "# J = C * t\n",
        "#Sendo:\n",
        "# J = juros simples\n",
        "# C = Capital inicial\n",
        "# i = taxa de juros\n",
        "# t = tempo de aplicação\n",
        "#Crie uma função que recebe um valor de empréstimo e o \n",
        "#tempo e retorne quanto será pago de juros ao final do período\n",
        "#use uma taxa de juros de 2.5%"
      ],
      "metadata": {
        "id": "xm89nlBdaB1c"
      },
      "execution_count": null,
      "outputs": []
    },
    {
      "cell_type": "code",
      "source": [
        "def jurosSimples(valor, tempo):\n",
        "  return valor * 0.025 * tempo"
      ],
      "metadata": {
        "id": "5UqmhkbjdCJJ"
      },
      "execution_count": null,
      "outputs": []
    },
    {
      "cell_type": "code",
      "source": [
        "jurosSimples(1000, 5)"
      ],
      "metadata": {
        "colab": {
          "base_uri": "https://localhost:8080/"
        },
        "id": "DrmgHDwydVPp",
        "outputId": "e476b1a8-fcaa-4ff8-e41e-1ab0b6cf1c20"
      },
      "execution_count": null,
      "outputs": [
        {
          "output_type": "execute_result",
          "data": {
            "text/plain": [
              "125.0"
            ]
          },
          "metadata": {},
          "execution_count": 25
        }
      ]
    },
    {
      "cell_type": "code",
      "source": [
        "def valorTotalEmprestimo(valor, tempo):\n",
        "  return valor + jurosSimples(valor, tempo)"
      ],
      "metadata": {
        "id": "g6QwSLgpdoNZ"
      },
      "execution_count": null,
      "outputs": []
    },
    {
      "cell_type": "code",
      "source": [
        "valorTotalEmprestimo(1000, 12)"
      ],
      "metadata": {
        "colab": {
          "base_uri": "https://localhost:8080/"
        },
        "id": "HVYACStqd0WB",
        "outputId": "32a6b26e-7a99-4bec-c8b0-00ae847de26f"
      },
      "execution_count": null,
      "outputs": [
        {
          "output_type": "execute_result",
          "data": {
            "text/plain": [
              "1300.0"
            ]
          },
          "metadata": {},
          "execution_count": 28
        }
      ]
    },
    {
      "cell_type": "code",
      "source": [
        "#programa que solicita o valor do empréstimo e o tempo\n",
        "valor = float(input('Digite o valor do empréstimo:'))\n",
        "tempo = int(input('Em quanto tempo? '))\n",
        "\n",
        "valorTotalEmprestimo(valor, tempo)"
      ],
      "metadata": {
        "colab": {
          "base_uri": "https://localhost:8080/"
        },
        "id": "bnn4dFIJfIUp",
        "outputId": "c1ec2c2e-eb54-4e52-b4ff-b11760d89390"
      },
      "execution_count": null,
      "outputs": [
        {
          "name": "stdout",
          "output_type": "stream",
          "text": [
            "Digite o valor do empréstimo:3560\n",
            "Em quanto tempo? 12\n"
          ]
        },
        {
          "output_type": "execute_result",
          "data": {
            "text/plain": [
              "4628.0"
            ]
          },
          "metadata": {},
          "execution_count": 30
        }
      ]
    },
    {
      "cell_type": "code",
      "source": [
        "palavra = 'macaco'\n",
        "palavra[2]"
      ],
      "metadata": {
        "colab": {
          "base_uri": "https://localhost:8080/",
          "height": 35
        },
        "id": "uPo0vVjlMIxh",
        "outputId": "adc357ed-3784-41b0-d957-0b5c1cdff689"
      },
      "execution_count": 1,
      "outputs": [
        {
          "output_type": "execute_result",
          "data": {
            "text/plain": [
              "'c'"
            ],
            "application/vnd.google.colaboratory.intrinsic+json": {
              "type": "string"
            }
          },
          "metadata": {},
          "execution_count": 1
        }
      ]
    },
    {
      "cell_type": "code",
      "source": [
        "#1 - Escreva uma função que recebe uma lista de strings e retorna:\n",
        " ## apenas as palavras que começam com a letra A\n",
        " ## a quantidade de palavras encontradas\n",
        "#2 - Escreva uma função que receba uma lista de números e retorne o produto desses números.\n",
        "#3 - Escreva uma função que receba uma lista de numeros e retorne a soma dos números pares.\n",
        "#4 - Função rebe uma lista de nomes, e retorna a string com o maior número de caracteres."
      ],
      "metadata": {
        "id": "YTi6gdWNNAno"
      },
      "execution_count": 8,
      "outputs": []
    },
    {
      "cell_type": "code",
      "source": [
        "def listaLetraA(palavras):\n",
        "  wordA = []\n",
        "  for i in palavras:\n",
        "    if i[0] == 'a':\n",
        "      wordA.append(i)\n",
        "  print(len(wordA))\n",
        "  return wordA"
      ],
      "metadata": {
        "id": "_Hmxr9KJNQa5"
      },
      "execution_count": 18,
      "outputs": []
    },
    {
      "cell_type": "code",
      "source": [
        "animais = ['arara', 'morcego', 'macaco', 'ariranha', 'papaguaio']\n",
        "listaLetraA(animais)"
      ],
      "metadata": {
        "colab": {
          "base_uri": "https://localhost:8080/"
        },
        "id": "pYlyObw-PQM_",
        "outputId": "22d3f264-4391-4eed-b5ac-751e0dd0247f"
      },
      "execution_count": 19,
      "outputs": [
        {
          "output_type": "stream",
          "name": "stdout",
          "text": [
            "2\n"
          ]
        },
        {
          "output_type": "execute_result",
          "data": {
            "text/plain": [
              "['arara', 'ariranha']"
            ]
          },
          "metadata": {},
          "execution_count": 19
        }
      ]
    },
    {
      "cell_type": "code",
      "source": [
        "def produto(numeros):\n",
        "  resultado = 1\n",
        "  for n in numeros:\n",
        "    resultado += n\n",
        "  return resultado\n",
        "\n",
        "numerozinhos = [2, 4, 8, 16, 32]\n",
        "produto(numerozinhos)"
      ],
      "metadata": {
        "colab": {
          "base_uri": "https://localhost:8080/"
        },
        "id": "1Zki7IZdaa9s",
        "outputId": "6b0c3d62-3954-499d-edf7-736b5a1bf782"
      },
      "execution_count": 23,
      "outputs": [
        {
          "output_type": "execute_result",
          "data": {
            "text/plain": [
              "63"
            ]
          },
          "metadata": {},
          "execution_count": 23
        }
      ]
    },
    {
      "cell_type": "code",
      "source": [
        "def somatorio(numeros):\n",
        "  soma = 0\n",
        "  for n in numeros:\n",
        "    if n % 2 == 0:\n",
        "     soma += n\n",
        "  return soma"
      ],
      "metadata": {
        "id": "WS72gKuEhrJx"
      },
      "execution_count": 25,
      "outputs": []
    },
    {
      "cell_type": "code",
      "source": [
        "somatorio(numerozinhos)"
      ],
      "metadata": {
        "colab": {
          "base_uri": "https://localhost:8080/"
        },
        "id": "n4h7ehplh1s4",
        "outputId": "5ec7cf56-b80b-4a3d-f765-4ffc212f9aaa"
      },
      "execution_count": 26,
      "outputs": [
        {
          "output_type": "execute_result",
          "data": {
            "text/plain": [
              "62"
            ]
          },
          "metadata": {},
          "execution_count": 26
        }
      ]
    },
    {
      "cell_type": "code",
      "source": [
        "users = ('zeca', 'anastacio', 'josefina', 'ivo Manoel da Silva', 'amaralin')\n",
        "\n",
        "def maiorString(users):\n",
        " maior = ''\n",
        " for u in users:\n",
        "   if (len(u)) >= len(maior):\n",
        "     maior = u\n",
        " return maior\n",
        "\n",
        "maiorString(users)"
      ],
      "metadata": {
        "colab": {
          "base_uri": "https://localhost:8080/",
          "height": 35
        },
        "id": "uTG70PiYj_eF",
        "outputId": "e187ae62-a34d-4476-a803-bbd5b5dcc9c8"
      },
      "execution_count": 35,
      "outputs": [
        {
          "output_type": "execute_result",
          "data": {
            "text/plain": [
              "'ivo Manoel da Silva'"
            ],
            "application/vnd.google.colaboratory.intrinsic+json": {
              "type": "string"
            }
          },
          "metadata": {},
          "execution_count": 35
        }
      ]
    },
    {
      "cell_type": "code",
      "source": [
        "def fatorial(n):\n",
        "  if(n <= 1):\n",
        "    return 1\n",
        "  else:\n",
        "    return n * fatorial(n-1)"
      ],
      "metadata": {
        "id": "Hi49JTKdm6b7"
      },
      "execution_count": 36,
      "outputs": []
    },
    {
      "cell_type": "code",
      "source": [
        "fatorial(5)"
      ],
      "metadata": {
        "colab": {
          "base_uri": "https://localhost:8080/"
        },
        "id": "WP812Vb8qiZy",
        "outputId": "ddd6e40d-67bb-4141-9d39-8e49fae85dd5"
      },
      "execution_count": 37,
      "outputs": [
        {
          "output_type": "execute_result",
          "data": {
            "text/plain": [
              "120"
            ]
          },
          "metadata": {},
          "execution_count": 37
        }
      ]
    }
  ]
}