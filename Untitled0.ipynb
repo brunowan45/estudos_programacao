{
  "nbformat": 4,
  "nbformat_minor": 0,
  "metadata": {
    "colab": {
      "provenance": [],
      "authorship_tag": "ABX9TyNG3HAb1swCJjkGoI63w9Tq",
      "include_colab_link": true
    },
    "kernelspec": {
      "name": "python3",
      "display_name": "Python 3"
    },
    "language_info": {
      "name": "python"
    }
  },
  "cells": [
    {
      "cell_type": "markdown",
      "metadata": {
        "id": "view-in-github",
        "colab_type": "text"
      },
      "source": [
        "<a href=\"https://colab.research.google.com/github/brunowan45/estudos_programacao/blob/main/Untitled0.ipynb\" target=\"_parent\"><img src=\"https://colab.research.google.com/assets/colab-badge.svg\" alt=\"Open In Colab\"/></a>"
      ]
    },
    {
      "cell_type": "code",
      "execution_count": null,
      "metadata": {
        "colab": {
          "base_uri": "https://localhost:8080/"
        },
        "id": "Yq2NdcEfCP9Q",
        "outputId": "4a282b4e-4966-4d7d-9b97-0c33a32daa1a"
      },
      "outputs": [
        {
          "output_type": "stream",
          "name": "stdout",
          "text": [
            "digite um número maior que 1: 6\n",
            "Digite um número maior que 1.\n",
            "Digite um número maior que 1.\n",
            "Digite um número maior que 1.\n",
            "Digite um número maior que 1.\n",
            "Digite um número maior que 1.\n",
            "Digite um número maior que 1.\n",
            "Digite um número maior que 1.\n"
          ]
        }
      ],
      "source": [
        "num = int(input('digite um número maior que 1: '))\n",
        "cont = 0\n",
        "while(cont <= num):\n",
        "  if(num < 1):\n",
        "    print(cont)\n",
        "  else:\n",
        "    print('Digite um número maior que 1.')\n",
        "  cont+=1"
      ]
    },
    {
      "cell_type": "code",
      "source": [
        "num = int(input('digite um número maior que 1: '))\n",
        "cont = 0\n",
        "listaNumerica = []\n",
        "while(cont < num):\n",
        "  listaNumerica.append(cont)\n",
        "  cont +=1\n",
        "print(sum(listaNumerica))"
      ],
      "metadata": {
        "colab": {
          "base_uri": "https://localhost:8080/"
        },
        "id": "qXNgQvAuLhuZ",
        "outputId": "f60d6d96-41b7-45cc-d959-42f5263ad399"
      },
      "execution_count": null,
      "outputs": [
        {
          "output_type": "stream",
          "name": "stdout",
          "text": [
            "digite um número maior que 1: 5\n",
            "10\n"
          ]
        }
      ]
    },
    {
      "cell_type": "code",
      "source": [
        "num = int(input('digite um número maior que 1: '))\n",
        "cont = 0 \n",
        "soma = 0\n",
        "while(cont <= num):\n",
        "  soma += cont\n",
        "  cont+=1\n",
        "print(soma)"
      ],
      "metadata": {
        "colab": {
          "base_uri": "https://localhost:8080/"
        },
        "id": "jqxkvT6rNf_H",
        "outputId": "0a3597c1-1e47-4ef8-c099-21b9c86d2aa4"
      },
      "execution_count": null,
      "outputs": [
        {
          "output_type": "stream",
          "name": "stdout",
          "text": [
            "digite um número maior que 1: 5\n",
            "15\n"
          ]
        }
      ]
    },
    {
      "cell_type": "code",
      "source": [
        "senha = 'bola123'\n",
        "userPass = input('Digite sua senha : ')\n",
        "cont = 0\n",
        "while(cont < 3):\n",
        "  cont+=1\n",
        "  if(userPass == senha):\n",
        "    break\n",
        "  else:\n",
        "    print('Senha errada')\n",
        "    userPass = input('Tente novamente : ')\n",
        "\n",
        "if(cont == 3):\n",
        "  print('Sua senha foi bloqueada, otaro!')\n",
        "else:\n",
        "  print('Seja bem-vind@ ao meu sisteminha, otaro!')"
      ],
      "metadata": {
        "colab": {
          "base_uri": "https://localhost:8080/"
        },
        "id": "FFFmdyJTQdo3",
        "outputId": "adbd6387-24e3-47a7-cf59-01034a8d0cf9"
      },
      "execution_count": null,
      "outputs": [
        {
          "output_type": "stream",
          "name": "stdout",
          "text": [
            "Digite sua senha : morreu \n",
            "Senha errada\n",
            "Tente novamente : morreu\n",
            "Senha errada\n",
            "Tente novamente : morreu\n",
            "Senha errada\n",
            "Tente novamente : morreu\n",
            "Sua senha foi bloqueada, otaro!\n"
          ]
        }
      ]
    },
    {
      "cell_type": "code",
      "source": [
        "num = input('digite um número')\n",
        "num.isdigit()"
      ],
      "metadata": {
        "colab": {
          "base_uri": "https://localhost:8080/"
        },
        "id": "Qr7rGDQ-YlA-",
        "outputId": "a2c766c7-04a6-4858-e3a9-2c4e61c2edd8"
      },
      "execution_count": null,
      "outputs": [
        {
          "name": "stdout",
          "output_type": "stream",
          "text": [
            "digite um número789\n"
          ]
        },
        {
          "output_type": "execute_result",
          "data": {
            "text/plain": [
              "True"
            ]
          },
          "metadata": {},
          "execution_count": 16
        }
      ]
    },
    {
      "cell_type": "code",
      "source": [
        "texto = input('digite ai')\n",
        "texto.isalpha()"
      ],
      "metadata": {
        "colab": {
          "base_uri": "https://localhost:8080/"
        },
        "id": "mJSsTNBRZo1D",
        "outputId": "e5e64428-b8f7-42ab-9004-b53e55afff99"
      },
      "execution_count": null,
      "outputs": [
        {
          "name": "stdout",
          "output_type": "stream",
          "text": [
            "digite aizé 345\n"
          ]
        },
        {
          "output_type": "execute_result",
          "data": {
            "text/plain": [
              "False"
            ]
          },
          "metadata": {},
          "execution_count": 17
        }
      ]
    },
    {
      "cell_type": "code",
      "source": [
        "nome = input('Digite o nome! ')\n",
        "if(nome.isdigit()):\n",
        "  print('Entada incorreta')\n",
        "else:\n",
        "  print(f'o nome {nome} foi inserido com sucesso')"
      ],
      "metadata": {
        "colab": {
          "base_uri": "https://localhost:8080/"
        },
        "id": "eyFNabkOajmv",
        "outputId": "de350611-a803-482e-d09c-835aa7ea8679"
      },
      "execution_count": null,
      "outputs": [
        {
          "output_type": "stream",
          "name": "stdout",
          "text": [
            "Digite o nome! josé\n",
            "o nome josé foi inserido com sucesso\n"
          ]
        }
      ]
    },
    {
      "cell_type": "code",
      "source": [
        "animais = []\n",
        "animal = input('Digite um nome de animal : ')\n",
        "\n",
        "while (animal.isdigit() == False):\n",
        "  animais.append(animal)\n",
        "  animal = input('Digite um nome de animal: ')\n",
        "\n",
        "  animais"
      ],
      "metadata": {
        "colab": {
          "base_uri": "https://localhost:8080/",
          "height": 484
        },
        "id": "9VG3NLIxbQFh",
        "outputId": "df7be2b3-48ec-43a0-e54f-e4a3f6ad16dd"
      },
      "execution_count": null,
      "outputs": [
        {
          "name": "stdout",
          "output_type": "stream",
          "text": [
            "Digite um nome de animal : girafa\n",
            "Digite um nome de animal: macaco\n",
            "Digite um nome de animal: raposa\n",
            "Digite um nome de animal: leão\n",
            "Digite um nome de animal: a\n",
            "Digite um nome de animal: a\n"
          ]
        },
        {
          "output_type": "error",
          "ename": "KeyboardInterrupt",
          "evalue": "ignored",
          "traceback": [
            "\u001b[0;31m---------------------------------------------------------------------------\u001b[0m",
            "\u001b[0;31mKeyboardInterrupt\u001b[0m                         Traceback (most recent call last)",
            "\u001b[0;32m<ipython-input-19-6940fb4ad817>\u001b[0m in \u001b[0;36m<cell line: 4>\u001b[0;34m()\u001b[0m\n\u001b[1;32m      4\u001b[0m \u001b[0;32mwhile\u001b[0m \u001b[0;34m(\u001b[0m\u001b[0manimal\u001b[0m\u001b[0;34m.\u001b[0m\u001b[0misdigit\u001b[0m\u001b[0;34m(\u001b[0m\u001b[0;34m)\u001b[0m \u001b[0;34m==\u001b[0m \u001b[0;32mFalse\u001b[0m\u001b[0;34m)\u001b[0m\u001b[0;34m:\u001b[0m\u001b[0;34m\u001b[0m\u001b[0;34m\u001b[0m\u001b[0m\n\u001b[1;32m      5\u001b[0m   \u001b[0manimais\u001b[0m\u001b[0;34m.\u001b[0m\u001b[0mappend\u001b[0m\u001b[0;34m(\u001b[0m\u001b[0manimal\u001b[0m\u001b[0;34m)\u001b[0m\u001b[0;34m\u001b[0m\u001b[0;34m\u001b[0m\u001b[0m\n\u001b[0;32m----> 6\u001b[0;31m   \u001b[0manimal\u001b[0m \u001b[0;34m=\u001b[0m \u001b[0minput\u001b[0m\u001b[0;34m(\u001b[0m\u001b[0;34m'Digite um nome de animal: '\u001b[0m\u001b[0;34m)\u001b[0m\u001b[0;34m\u001b[0m\u001b[0;34m\u001b[0m\u001b[0m\n\u001b[0m\u001b[1;32m      7\u001b[0m \u001b[0;34m\u001b[0m\u001b[0m\n\u001b[1;32m      8\u001b[0m   \u001b[0manimais\u001b[0m\u001b[0;34m\u001b[0m\u001b[0;34m\u001b[0m\u001b[0m\n",
            "\u001b[0;32m/usr/local/lib/python3.9/dist-packages/ipykernel/kernelbase.py\u001b[0m in \u001b[0;36mraw_input\u001b[0;34m(self, prompt)\u001b[0m\n\u001b[1;32m    849\u001b[0m                 \u001b[0;34m\"raw_input was called, but this frontend does not support input requests.\"\u001b[0m\u001b[0;34m\u001b[0m\u001b[0;34m\u001b[0m\u001b[0m\n\u001b[1;32m    850\u001b[0m             )\n\u001b[0;32m--> 851\u001b[0;31m         return self._input_request(str(prompt),\n\u001b[0m\u001b[1;32m    852\u001b[0m             \u001b[0mself\u001b[0m\u001b[0;34m.\u001b[0m\u001b[0m_parent_ident\u001b[0m\u001b[0;34m,\u001b[0m\u001b[0;34m\u001b[0m\u001b[0;34m\u001b[0m\u001b[0m\n\u001b[1;32m    853\u001b[0m             \u001b[0mself\u001b[0m\u001b[0;34m.\u001b[0m\u001b[0m_parent_header\u001b[0m\u001b[0;34m,\u001b[0m\u001b[0;34m\u001b[0m\u001b[0;34m\u001b[0m\u001b[0m\n",
            "\u001b[0;32m/usr/local/lib/python3.9/dist-packages/ipykernel/kernelbase.py\u001b[0m in \u001b[0;36m_input_request\u001b[0;34m(self, prompt, ident, parent, password)\u001b[0m\n\u001b[1;32m    893\u001b[0m             \u001b[0;32mexcept\u001b[0m \u001b[0mKeyboardInterrupt\u001b[0m\u001b[0;34m:\u001b[0m\u001b[0;34m\u001b[0m\u001b[0;34m\u001b[0m\u001b[0m\n\u001b[1;32m    894\u001b[0m                 \u001b[0;31m# re-raise KeyboardInterrupt, to truncate traceback\u001b[0m\u001b[0;34m\u001b[0m\u001b[0;34m\u001b[0m\u001b[0m\n\u001b[0;32m--> 895\u001b[0;31m                 \u001b[0;32mraise\u001b[0m \u001b[0mKeyboardInterrupt\u001b[0m\u001b[0;34m(\u001b[0m\u001b[0;34m\"Interrupted by user\"\u001b[0m\u001b[0;34m)\u001b[0m \u001b[0;32mfrom\u001b[0m \u001b[0;32mNone\u001b[0m\u001b[0;34m\u001b[0m\u001b[0;34m\u001b[0m\u001b[0m\n\u001b[0m\u001b[1;32m    896\u001b[0m             \u001b[0;32mexcept\u001b[0m \u001b[0mException\u001b[0m \u001b[0;32mas\u001b[0m \u001b[0me\u001b[0m\u001b[0;34m:\u001b[0m\u001b[0;34m\u001b[0m\u001b[0;34m\u001b[0m\u001b[0m\n\u001b[1;32m    897\u001b[0m                 \u001b[0mself\u001b[0m\u001b[0;34m.\u001b[0m\u001b[0mlog\u001b[0m\u001b[0;34m.\u001b[0m\u001b[0mwarning\u001b[0m\u001b[0;34m(\u001b[0m\u001b[0;34m\"Invalid Message:\"\u001b[0m\u001b[0;34m,\u001b[0m \u001b[0mexc_info\u001b[0m\u001b[0;34m=\u001b[0m\u001b[0;32mTrue\u001b[0m\u001b[0;34m)\u001b[0m\u001b[0;34m\u001b[0m\u001b[0;34m\u001b[0m\u001b[0m\n",
            "\u001b[0;31mKeyboardInterrupt\u001b[0m: Interrupted by user"
          ]
        }
      ]
    },
    {
      "cell_type": "code",
      "source": [
        "senha_correta = \"josé\"\n",
        "tentativas_restantes = 5\n",
        "\n",
        "while tentativas_restantes > 0:\n",
        "    senha = input(\"Digite sua senha: \")\n",
        "    if senha == senha_correta:\n",
        "        print(\"Senha correta! Acesso concedido.\")\n",
        "        break\n",
        "    else:\n",
        "        tentativas_restantes -= 1\n",
        "        print(f\"Senha incorreta. Restam {tentativas_restantes} tentativas.\")\n",
        "        \n",
        "if tentativas_restantes == 0:\n",
        "    print(\"Você excedeu o número máximo de tentativas permitidas. Acesso bloqueado.\")\n"
      ],
      "metadata": {
        "colab": {
          "base_uri": "https://localhost:8080/"
        },
        "id": "w-QLos9FPb9X",
        "outputId": "64e6c0bd-24bd-4d9d-d389-9bc6603b0fe6"
      },
      "execution_count": null,
      "outputs": [
        {
          "output_type": "stream",
          "name": "stdout",
          "text": [
            "Digite sua senha: josé\n",
            "Senha correta! Acesso concedido.\n"
          ]
        }
      ]
    }
  ]
}