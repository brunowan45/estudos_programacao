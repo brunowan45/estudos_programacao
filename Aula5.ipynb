{
  "nbformat": 4,
  "nbformat_minor": 0,
  "metadata": {
    "colab": {
      "provenance": [],
      "authorship_tag": "ABX9TyMpNZsRRD2u98bqvgiD5Ubp",
      "include_colab_link": true
    },
    "kernelspec": {
      "name": "python3",
      "display_name": "Python 3"
    },
    "language_info": {
      "name": "python"
    }
  },
  "cells": [
    {
      "cell_type": "markdown",
      "metadata": {
        "id": "view-in-github",
        "colab_type": "text"
      },
      "source": [
        "<a href=\"https://colab.research.google.com/github/brunowan45/estudos_programacao/blob/main/Aula5.ipynb\" target=\"_parent\"><img src=\"https://colab.research.google.com/assets/colab-badge.svg\" alt=\"Open In Colab\"/></a>"
      ]
    },
    {
      "cell_type": "code",
      "execution_count": 1,
      "metadata": {
        "colab": {
          "base_uri": "https://localhost:8080/"
        },
        "id": "3JO_Vhlk_0g6",
        "outputId": "da92e10e-4d0e-4e94-eb65-ee0cb1b115ac"
      },
      "outputs": [
        {
          "output_type": "stream",
          "name": "stdout",
          "text": [
            "Meu nome aqui\n"
          ]
        }
      ],
      "source": [
        "print('Meu nome aqui')"
      ]
    },
    {
      "cell_type": "code",
      "source": [
        "print('Bruno Wanderley')"
      ],
      "metadata": {
        "colab": {
          "base_uri": "https://localhost:8080/"
        },
        "id": "lr9RK7ofClTQ",
        "outputId": "417ba24c-d5c7-4c69-e37a-40f0fc7302c1"
      },
      "execution_count": 3,
      "outputs": [
        {
          "output_type": "stream",
          "name": "stdout",
          "text": [
            "Bruno Wanderley\n"
          ]
        }
      ]
    },
    {
      "cell_type": "code",
      "source": [
        "Ano = (2023)\n",
        "print(Ano)"
      ],
      "metadata": {
        "colab": {
          "base_uri": "https://localhost:8080/"
        },
        "id": "LQ5KL7ZZC6p-",
        "outputId": "32b6b5b5-c277-4cfa-e850-1ba2cd832f7b"
      },
      "execution_count": 4,
      "outputs": [
        {
          "output_type": "stream",
          "name": "stdout",
          "text": [
            "2023\n"
          ]
        }
      ]
    },
    {
      "cell_type": "code",
      "source": [
        "fruta = 'Manga'\n",
        "print(fruta)"
      ],
      "metadata": {
        "colab": {
          "base_uri": "https://localhost:8080/"
        },
        "id": "dE_AlDP1DRs9",
        "outputId": "6726097e-06ba-4c36-a899-f8137a8f2225"
      },
      "execution_count": 5,
      "outputs": [
        {
          "output_type": "stream",
          "name": "stdout",
          "text": [
            "Manga\n"
          ]
        }
      ]
    },
    {
      "cell_type": "markdown",
      "source": [
        "Laço For"
      ],
      "metadata": {
        "id": "sUP104TzEUzD"
      }
    },
    {
      "cell_type": "code",
      "source": [
        "#criando uma lista\n",
        "frutas = ['jaca', 'manga', 'morango', 'pinha', 'goiaba']"
      ],
      "metadata": {
        "id": "NXmJ3O53EXvq"
      },
      "execution_count": 6,
      "outputs": []
    },
    {
      "cell_type": "code",
      "source": [
        "for i in frutas:\n",
        "   print(i)"
      ],
      "metadata": {
        "colab": {
          "base_uri": "https://localhost:8080/"
        },
        "id": "jbGhm4tkEpJh",
        "outputId": "783bf204-ba3c-40be-faeb-f7e74007b5c1"
      },
      "execution_count": 7,
      "outputs": [
        {
          "output_type": "stream",
          "name": "stdout",
          "text": [
            "jaca\n",
            "manga\n",
            "morango\n",
            "pinha\n",
            "goiaba\n"
          ]
        }
      ]
    },
    {
      "cell_type": "code",
      "source": [
        "for i in frutas:\n",
        " if(i == 'morango'):\n",
        "    print(i)"
      ],
      "metadata": {
        "colab": {
          "base_uri": "https://localhost:8080/"
        },
        "id": "SP2wK51vF8gx",
        "outputId": "e8e90954-b369-4966-953b-ad281624701b"
      },
      "execution_count": 9,
      "outputs": [
        {
          "output_type": "stream",
          "name": "stdout",
          "text": [
            "morango\n"
          ]
        }
      ]
    },
    {
      "cell_type": "code",
      "source": [
        "fruta = input('insira uma fruta:')\n",
        "#inserir valores em listas...\n",
        "frutas.append(fruta)\n",
        "frutas"
      ],
      "metadata": {
        "colab": {
          "base_uri": "https://localhost:8080/"
        },
        "id": "jFqBft3BHY29",
        "outputId": "fb7e0d67-7553-46b3-dabf-1ffe72cb0dad"
      },
      "execution_count": 12,
      "outputs": [
        {
          "name": "stdout",
          "output_type": "stream",
          "text": [
            "insira uma fruta:Uva\n"
          ]
        },
        {
          "output_type": "execute_result",
          "data": {
            "text/plain": [
              "['jaca', 'manga', 'morango', 'pinha', 'goiaba', 'mamão', 'Uva']"
            ]
          },
          "metadata": {},
          "execution_count": 12
        }
      ]
    },
    {
      "cell_type": "code",
      "source": [
        "#\n",
        "notas = [8, 9, 3, 4, 7, 10, 3, 6, 7]"
      ],
      "metadata": {
        "id": "mPEF71j8IS-L"
      },
      "execution_count": 13,
      "outputs": []
    },
    {
      "cell_type": "code",
      "source": [
        "for nota in notas:\n",
        "  if(nota >= 7):\n",
        "    print(nota)"
      ],
      "metadata": {
        "colab": {
          "base_uri": "https://localhost:8080/"
        },
        "id": "zzrXJfz7InDT",
        "outputId": "8c1fed0c-9438-49e8-d1b3-2027a21370da"
      },
      "execution_count": 14,
      "outputs": [
        {
          "output_type": "stream",
          "name": "stdout",
          "text": [
            "8\n",
            "9\n",
            "7\n",
            "10\n",
            "7\n"
          ]
        }
      ]
    },
    {
      "cell_type": "code",
      "source": [
        "#Exiba a quantidade de aprovados e de reprovados.\n",
        "aprovados = 0\n",
        "reprovados = 0\n",
        "for nota in notas:\n",
        "  if(nota>=7):\n",
        "    aprovados +=1\n",
        "  else:\n",
        "      reprovados += 1\n",
        "\n",
        "print('Aprovados:', aprovados)\n",
        "print('Reprovados:', reprovados)"
      ],
      "metadata": {
        "colab": {
          "base_uri": "https://localhost:8080/"
        },
        "id": "RagPOmnSJ5NS",
        "outputId": "16d23077-976c-4be0-c8e3-4fd320457f98"
      },
      "execution_count": 16,
      "outputs": [
        {
          "output_type": "stream",
          "name": "stdout",
          "text": [
            "Aprovados: 5\n",
            "Reprovados: 4\n"
          ]
        }
      ]
    },
    {
      "cell_type": "code",
      "source": [
        "#criar um programa que lista os números de 1 a 10\n",
        "#para isto, precisaremos de um contador\n",
        "cont = 1\n",
        "numeros = []\n",
        "\n",
        "while (cont <= 10):\n",
        "  numeros.append(cont)\n",
        "  cont += 1\n",
        "\n",
        "numeros"
      ],
      "metadata": {
        "colab": {
          "base_uri": "https://localhost:8080/"
        },
        "id": "M86ok153Q3pF",
        "outputId": "899ce4af-3e8f-44ad-ef9d-7965643e3698"
      },
      "execution_count": 17,
      "outputs": [
        {
          "output_type": "execute_result",
          "data": {
            "text/plain": [
              "[1, 2, 3, 4, 5, 6, 7, 8, 9, 10]"
            ]
          },
          "metadata": {},
          "execution_count": 17
        }
      ]
    },
    {
      "cell_type": "code",
      "source": [
        "#modifique o código anterior, para solicitar um tamanho de lista\n",
        "#x e com o laço while, crie a nova lista, do tamanho desejado.\n",
        "cont = 1\n",
        "numeros = []\n",
        "tamanho = int(input('Digite ai o tamáin da lista: '))\n",
        "\n",
        "while(cont <= tamanho):\n",
        "  numeros.append(cont)\n",
        "  cont += 1\n",
        "\n",
        "numeros "
      ],
      "metadata": {
        "colab": {
          "base_uri": "https://localhost:8080/"
        },
        "id": "ae1Qk9oWSQ7D",
        "outputId": "9b3b19bc-7a47-4601-c685-d1e785f4c2ee"
      },
      "execution_count": 23,
      "outputs": [
        {
          "name": "stdout",
          "output_type": "stream",
          "text": [
            "Digite ai o tamáin da lista: 5\n"
          ]
        },
        {
          "output_type": "execute_result",
          "data": {
            "text/plain": [
              "[1, 2, 3, 4, 5]"
            ]
          },
          "metadata": {},
          "execution_count": 23
        }
      ]
    },
    {
      "cell_type": "code",
      "source": [
        "#inserir nomes de cidades.\n",
        "#O laço encerra, quando digitar 0."
      ],
      "metadata": {
        "id": "yr87tLC1VX8P"
      },
      "execution_count": null,
      "outputs": []
    },
    {
      "cell_type": "code",
      "source": [
        "cidades = []\n",
        "city = input('Digita uma cidade:')\n",
        "\n",
        "while(city != '0'):\n",
        "  cidades.append(city)\n",
        "  city = input('Digite uma cidade: ')\n",
        "\n",
        "cidades"
      ],
      "metadata": {
        "colab": {
          "base_uri": "https://localhost:8080/"
        },
        "id": "9xMbisHAVeYn",
        "outputId": "b5a4a36f-b872-4af9-9eb6-e0d7236d42a2"
      },
      "execution_count": 25,
      "outputs": [
        {
          "name": "stdout",
          "output_type": "stream",
          "text": [
            "Digita uma cidade:João Pessoa\n",
            "Digite uma cidade: Patos\n",
            "Digite uma cidade: Campina Grande\n",
            "Digite uma cidade: Pablo ramon\n",
            "Digite uma cidade: Fortaleza\n",
            "Digite uma cidade: São Paulo\n",
            "Digite uma cidade: s\n",
            "Digite uma cidade: s\n",
            "Digite uma cidade: Cajazeiras\n",
            "Digite uma cidade: santa cruz\n",
            "Digite uma cidade: \n",
            "Digite uma cidade: 0\n"
          ]
        },
        {
          "output_type": "execute_result",
          "data": {
            "text/plain": [
              "['João Pessoa',\n",
              " 'Patos',\n",
              " 'Campina Grande',\n",
              " 'Pablo ramon',\n",
              " 'Fortaleza',\n",
              " 'São Paulo',\n",
              " 's',\n",
              " 's',\n",
              " 'Cajazeiras',\n",
              " 'santa cruz',\n",
              " '']"
            ]
          },
          "metadata": {},
          "execution_count": 25
        }
      ]
    },
    {
      "cell_type": "code",
      "source": [
        "#par ou impar\n",
        "num = int(input('Digite um numero:'))\n",
        "\n",
        "while(num >= 0):\n",
        "  if(num % 2 == 0):\n",
        "    num = int(input('Digite um numero: '))\n",
        "  else:\n",
        "    print('É impar')\n",
        "    num = int(input('Digite um numero'))\n",
        "\n",
        "print('Acabou o programa, otáro! ')"
      ],
      "metadata": {
        "colab": {
          "base_uri": "https://localhost:8080/"
        },
        "id": "55YI5KRuZChb",
        "outputId": "632d6283-cb97-45f7-c074-35ec7e3ae073"
      },
      "execution_count": 26,
      "outputs": [
        {
          "output_type": "stream",
          "name": "stdout",
          "text": [
            "Digite um numero:-4\n",
            "Acabou o programa, otáro! \n"
          ]
        }
      ]
    },
    {
      "cell_type": "code",
      "source": [
        "#Testa  a entrada do usuário \n",
        "#isdigit() Verificar se o que foi digitado é um número ou não\n",
        "num = input('digite um número')\n",
        "num.isdigit()"
      ],
      "metadata": {
        "id": "SsZYatqVdbKo",
        "outputId": "96f3f3b5-4eb9-4c4f-d27e-a94b07a6f69b",
        "colab": {
          "base_uri": "https://localhost:8080/"
        }
      },
      "execution_count": 27,
      "outputs": [
        {
          "name": "stdout",
          "output_type": "stream",
          "text": [
            "digite um número4\n"
          ]
        },
        {
          "output_type": "execute_result",
          "data": {
            "text/plain": [
              "True"
            ]
          },
          "metadata": {},
          "execution_count": 27
        }
      ]
    }
  ]
}